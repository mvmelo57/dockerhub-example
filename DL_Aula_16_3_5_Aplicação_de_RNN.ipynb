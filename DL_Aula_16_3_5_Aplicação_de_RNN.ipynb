{
  "nbformat": 4,
  "nbformat_minor": 0,
  "metadata": {
    "colab": {
      "provenance": [],
      "authorship_tag": "ABX9TyPecBK0ybHjFsDmXxMAM2d5",
      "include_colab_link": true
    },
    "kernelspec": {
      "name": "python3",
      "display_name": "Python 3"
    },
    "language_info": {
      "name": "python"
    }
  },
  "cells": [
    {
      "cell_type": "markdown",
      "metadata": {
        "id": "view-in-github",
        "colab_type": "text"
      },
      "source": [
        "<a href=\"https://colab.research.google.com/github/mvmelo57/dockerhub-example/blob/main/DL_Aula_16_3_5_Aplica%C3%A7%C3%A3o_de_RNN.ipynb\" target=\"_parent\"><img src=\"https://colab.research.google.com/assets/colab-badge.svg\" alt=\"Open In Colab\"/></a>"
      ]
    },
    {
      "cell_type": "code",
      "execution_count": 12,
      "metadata": {
        "id": "lcm8cLFmQeTz"
      },
      "outputs": [],
      "source": []
    },
    {
      "cell_type": "markdown",
      "source": [
        "***Aplicação de RNN***\n",
        "\n",
        "Redes Neurais Recorrentes\n",
        "\n",
        "SMS Spam\n",
        "- Vamos implementar um detector de SPAM\n",
        "- O treinamento é com a base SMS Spam\n",
        "-- Coleção de textos de SMS rotulados como legítimos (ham) ou spam\n",
        "-- https://www.kaggle.com/datasets/uciml/sms-spam-collection-dataset\n",
        "-- 5.574 mensagens\n",
        "-- 87% mensagens normais\n",
        "-- 13% spam"
      ],
      "metadata": {
        "id": "lfvYr_7FQqK4"
      }
    },
    {
      "cell_type": "code",
      "source": [
        "# Importação das Bibliotecas\n",
        "import tensorflow as tf\n",
        "import numpy as np\n",
        "import matplotlib.pyplot as plt\n",
        "import pandas as pd\n",
        "from sklearn.model_selection import train_test_split\n",
        "from tensorflow.keras.layers import Input, Embedding, LSTM, Dense\n",
        "from tensorflow.keras.layers import GlobalMaxPooling1D\n",
        "from tensorflow.keras.models import Model\n",
        "from tensorflow.keras.preprocessing.sequence import pad_sequences\n",
        "from tensorflow.keras.preprocessing.text import Tokenizer"
      ],
      "metadata": {
        "id": "WR8XBSX8Q0x2"
      },
      "execution_count": 13,
      "outputs": []
    },
    {
      "cell_type": "code",
      "source": [
        "# carrega e arruma a base\n",
        "!wget http://www.razer.net.br/datasets/spam.csv\n",
        "df = pd.read_csv(\"spam.csv\", encoding=\"ISO-8859-1\")\n",
        "df.head()\n",
        "df = df.drop([\"Unnamed: 2\", \"Unnamed: 3\", \"Unnamed: 4\"], axis=1)\n",
        "df.columns = [\"labels\", \"data\"]\n",
        "df[\"b_labels\"] = df[\"labels\"].map({ \"ham\": 0, \"spam\": 1})\n",
        "y = df[\"b_labels\"].values"
      ],
      "metadata": {
        "colab": {
          "base_uri": "https://localhost:8080/"
        },
        "id": "Xt9oSsOARS71",
        "outputId": "d01b2149-4ae3-4289-a7d7-48e06a76e9bd"
      },
      "execution_count": 14,
      "outputs": [
        {
          "output_type": "stream",
          "name": "stdout",
          "text": [
            "--2025-08-23 00:24:10--  http://www.razer.net.br/datasets/spam.csv\n",
            "Resolving www.razer.net.br (www.razer.net.br)... 178.128.150.229\n",
            "Connecting to www.razer.net.br (www.razer.net.br)|178.128.150.229|:80... connected.\n",
            "HTTP request sent, awaiting response... 200 OK\n",
            "Length: 503663 (492K) [application/octet-stream]\n",
            "Saving to: ‘spam.csv.1’\n",
            "\n",
            "spam.csv.1          100%[===================>] 491.86K  --.-KB/s    in 0.1s    \n",
            "\n",
            "2025-08-23 00:24:11 (4.19 MB/s) - ‘spam.csv.1’ saved [503663/503663]\n",
            "\n"
          ]
        }
      ]
    },
    {
      "cell_type": "code",
      "source": [
        "# Separa a base em treino e teste\n",
        "x_train, x_test, y_train, y_test = train_test_split(df[\"data\"], y,\n",
        "test_size=0.33)"
      ],
      "metadata": {
        "id": "lqxtjLRKRXV9"
      },
      "execution_count": 15,
      "outputs": []
    },
    {
      "cell_type": "code",
      "source": [
        "# Número máximo de palavras para considerar\n",
        "# São consideradas as mais frequentes, as demais são\n",
        "# ignoradas\n",
        "num_words = 20000\n",
        "tokenizer = Tokenizer(num_words=num_words)\n",
        "tokenizer.fit_on_texts(x_train)\n",
        "sequences_train = tokenizer.texts_to_sequences(x_train)\n",
        "sequences_test = tokenizer.texts_to_sequences(x_test)\n",
        "word2index = tokenizer.word_index\n",
        "V = len(word2index)\n",
        "print(\"%s tokens\" % V)"
      ],
      "metadata": {
        "colab": {
          "base_uri": "https://localhost:8080/"
        },
        "id": "xMVgQ_MdRcXW",
        "outputId": "0eb56d09-424d-46ee-fcfc-609eaa278b00"
      },
      "execution_count": 16,
      "outputs": [
        {
          "output_type": "stream",
          "name": "stdout",
          "text": [
            "7172 tokens\n"
          ]
        }
      ]
    },
    {
      "cell_type": "code",
      "source": [
        "# Acerta o tamanho das sequências (padding)\n",
        "data_train = pad_sequences(sequences_train) # usa o tamanho da maior seq.\n",
        "T = data_train.shape[1] # tamanho da sequência\n",
        "data_test = pad_sequences(sequences_test, maxlen=T)\n",
        "print(\"data_train.shape: \", data_train.shape)\n",
        "print(\"data_test.shape: \", data_test.shape)"
      ],
      "metadata": {
        "colab": {
          "base_uri": "https://localhost:8080/"
        },
        "id": "pqZwjeI7RmpB",
        "outputId": "88c7a382-e99c-41b0-bf68-4840600415e1"
      },
      "execution_count": 17,
      "outputs": [
        {
          "output_type": "stream",
          "name": "stdout",
          "text": [
            "data_train.shape:  (3733, 189)\n",
            "data_test.shape:  (1839, 189)\n"
          ]
        }
      ]
    },
    {
      "cell_type": "code",
      "source": [
        "# Define o modelo\n",
        "D = 20 # tamanho do embedding, hiperparâmetro que pode ser escolhido\n",
        "M = 5 # tamanho do hidden state, quantidade de unidades LSTM\n",
        "i = Input(shape=(T,)) # Entra uma frase inteira\n",
        "x = Embedding(V+1, D)(i)\n",
        "x = LSTM(M)(x)\n",
        "x = Dense(1, activation=\"sigmoid\")(x) # Sigmoide pois só tem 2 valores\n",
        "model = Model(i, x)"
      ],
      "metadata": {
        "id": "OvM7LDuVRod5"
      },
      "execution_count": 18,
      "outputs": []
    },
    {
      "cell_type": "code",
      "source": [
        "model.summary()"
      ],
      "metadata": {
        "colab": {
          "base_uri": "https://localhost:8080/",
          "height": 257
        },
        "id": "lv-yDiXbRvol",
        "outputId": "148e98a6-6b03-47dd-dd0b-3299ed04974c"
      },
      "execution_count": 19,
      "outputs": [
        {
          "output_type": "display_data",
          "data": {
            "text/plain": [
              "\u001b[1mModel: \"functional_1\"\u001b[0m\n"
            ],
            "text/html": [
              "<pre style=\"white-space:pre;overflow-x:auto;line-height:normal;font-family:Menlo,'DejaVu Sans Mono',consolas,'Courier New',monospace\"><span style=\"font-weight: bold\">Model: \"functional_1\"</span>\n",
              "</pre>\n"
            ]
          },
          "metadata": {}
        },
        {
          "output_type": "display_data",
          "data": {
            "text/plain": [
              "┏━━━━━━━━━━━━━━━━━━━━━━━━━━━━━━━━━┳━━━━━━━━━━━━━━━━━━━━━━━━┳━━━━━━━━━━━━━━━┓\n",
              "┃\u001b[1m \u001b[0m\u001b[1mLayer (type)                   \u001b[0m\u001b[1m \u001b[0m┃\u001b[1m \u001b[0m\u001b[1mOutput Shape          \u001b[0m\u001b[1m \u001b[0m┃\u001b[1m \u001b[0m\u001b[1m      Param #\u001b[0m\u001b[1m \u001b[0m┃\n",
              "┡━━━━━━━━━━━━━━━━━━━━━━━━━━━━━━━━━╇━━━━━━━━━━━━━━━━━━━━━━━━╇━━━━━━━━━━━━━━━┩\n",
              "│ input_layer_1 (\u001b[38;5;33mInputLayer\u001b[0m)      │ (\u001b[38;5;45mNone\u001b[0m, \u001b[38;5;34m189\u001b[0m)            │             \u001b[38;5;34m0\u001b[0m │\n",
              "├─────────────────────────────────┼────────────────────────┼───────────────┤\n",
              "│ embedding_1 (\u001b[38;5;33mEmbedding\u001b[0m)         │ (\u001b[38;5;45mNone\u001b[0m, \u001b[38;5;34m189\u001b[0m, \u001b[38;5;34m20\u001b[0m)        │       \u001b[38;5;34m143,460\u001b[0m │\n",
              "├─────────────────────────────────┼────────────────────────┼───────────────┤\n",
              "│ lstm_1 (\u001b[38;5;33mLSTM\u001b[0m)                   │ (\u001b[38;5;45mNone\u001b[0m, \u001b[38;5;34m5\u001b[0m)              │           \u001b[38;5;34m520\u001b[0m │\n",
              "├─────────────────────────────────┼────────────────────────┼───────────────┤\n",
              "│ dense_1 (\u001b[38;5;33mDense\u001b[0m)                 │ (\u001b[38;5;45mNone\u001b[0m, \u001b[38;5;34m1\u001b[0m)              │             \u001b[38;5;34m6\u001b[0m │\n",
              "└─────────────────────────────────┴────────────────────────┴───────────────┘\n"
            ],
            "text/html": [
              "<pre style=\"white-space:pre;overflow-x:auto;line-height:normal;font-family:Menlo,'DejaVu Sans Mono',consolas,'Courier New',monospace\">┏━━━━━━━━━━━━━━━━━━━━━━━━━━━━━━━━━┳━━━━━━━━━━━━━━━━━━━━━━━━┳━━━━━━━━━━━━━━━┓\n",
              "┃<span style=\"font-weight: bold\"> Layer (type)                    </span>┃<span style=\"font-weight: bold\"> Output Shape           </span>┃<span style=\"font-weight: bold\">       Param # </span>┃\n",
              "┡━━━━━━━━━━━━━━━━━━━━━━━━━━━━━━━━━╇━━━━━━━━━━━━━━━━━━━━━━━━╇━━━━━━━━━━━━━━━┩\n",
              "│ input_layer_1 (<span style=\"color: #0087ff; text-decoration-color: #0087ff\">InputLayer</span>)      │ (<span style=\"color: #00d7ff; text-decoration-color: #00d7ff\">None</span>, <span style=\"color: #00af00; text-decoration-color: #00af00\">189</span>)            │             <span style=\"color: #00af00; text-decoration-color: #00af00\">0</span> │\n",
              "├─────────────────────────────────┼────────────────────────┼───────────────┤\n",
              "│ embedding_1 (<span style=\"color: #0087ff; text-decoration-color: #0087ff\">Embedding</span>)         │ (<span style=\"color: #00d7ff; text-decoration-color: #00d7ff\">None</span>, <span style=\"color: #00af00; text-decoration-color: #00af00\">189</span>, <span style=\"color: #00af00; text-decoration-color: #00af00\">20</span>)        │       <span style=\"color: #00af00; text-decoration-color: #00af00\">143,460</span> │\n",
              "├─────────────────────────────────┼────────────────────────┼───────────────┤\n",
              "│ lstm_1 (<span style=\"color: #0087ff; text-decoration-color: #0087ff\">LSTM</span>)                   │ (<span style=\"color: #00d7ff; text-decoration-color: #00d7ff\">None</span>, <span style=\"color: #00af00; text-decoration-color: #00af00\">5</span>)              │           <span style=\"color: #00af00; text-decoration-color: #00af00\">520</span> │\n",
              "├─────────────────────────────────┼────────────────────────┼───────────────┤\n",
              "│ dense_1 (<span style=\"color: #0087ff; text-decoration-color: #0087ff\">Dense</span>)                 │ (<span style=\"color: #00d7ff; text-decoration-color: #00d7ff\">None</span>, <span style=\"color: #00af00; text-decoration-color: #00af00\">1</span>)              │             <span style=\"color: #00af00; text-decoration-color: #00af00\">6</span> │\n",
              "└─────────────────────────────────┴────────────────────────┴───────────────┘\n",
              "</pre>\n"
            ]
          },
          "metadata": {}
        },
        {
          "output_type": "display_data",
          "data": {
            "text/plain": [
              "\u001b[1m Total params: \u001b[0m\u001b[38;5;34m143,986\u001b[0m (562.45 KB)\n"
            ],
            "text/html": [
              "<pre style=\"white-space:pre;overflow-x:auto;line-height:normal;font-family:Menlo,'DejaVu Sans Mono',consolas,'Courier New',monospace\"><span style=\"font-weight: bold\"> Total params: </span><span style=\"color: #00af00; text-decoration-color: #00af00\">143,986</span> (562.45 KB)\n",
              "</pre>\n"
            ]
          },
          "metadata": {}
        },
        {
          "output_type": "display_data",
          "data": {
            "text/plain": [
              "\u001b[1m Trainable params: \u001b[0m\u001b[38;5;34m143,986\u001b[0m (562.45 KB)\n"
            ],
            "text/html": [
              "<pre style=\"white-space:pre;overflow-x:auto;line-height:normal;font-family:Menlo,'DejaVu Sans Mono',consolas,'Courier New',monospace\"><span style=\"font-weight: bold\"> Trainable params: </span><span style=\"color: #00af00; text-decoration-color: #00af00\">143,986</span> (562.45 KB)\n",
              "</pre>\n"
            ]
          },
          "metadata": {}
        },
        {
          "output_type": "display_data",
          "data": {
            "text/plain": [
              "\u001b[1m Non-trainable params: \u001b[0m\u001b[38;5;34m0\u001b[0m (0.00 B)\n"
            ],
            "text/html": [
              "<pre style=\"white-space:pre;overflow-x:auto;line-height:normal;font-family:Menlo,'DejaVu Sans Mono',consolas,'Courier New',monospace\"><span style=\"font-weight: bold\"> Non-trainable params: </span><span style=\"color: #00af00; text-decoration-color: #00af00\">0</span> (0.00 B)\n",
              "</pre>\n"
            ]
          },
          "metadata": {}
        }
      ]
    },
    {
      "cell_type": "code",
      "source": [
        "# Compila e treina o modelo\n",
        "model.compile(loss=\"binary_crossentropy\", optimizer=\"adam\",\n",
        "metrics=[\"accuracy\"])\n",
        "epochs = 5\n",
        "r = model.fit(data_train, y_train, epochs=epochs, validation_data=(data_test,\n",
        "y_test))"
      ],
      "metadata": {
        "colab": {
          "base_uri": "https://localhost:8080/"
        },
        "id": "IAIs9TXyR1rz",
        "outputId": "40934a2d-0ace-44fd-a192-416ded0aa7a4"
      },
      "execution_count": 20,
      "outputs": [
        {
          "output_type": "stream",
          "name": "stdout",
          "text": [
            "Epoch 1/5\n",
            "\u001b[1m117/117\u001b[0m \u001b[32m━━━━━━━━━━━━━━━━━━━━\u001b[0m\u001b[37m\u001b[0m \u001b[1m10s\u001b[0m 64ms/step - accuracy: 0.8485 - loss: 0.5708 - val_accuracy: 0.8853 - val_loss: 0.2731\n",
            "Epoch 2/5\n",
            "\u001b[1m117/117\u001b[0m \u001b[32m━━━━━━━━━━━━━━━━━━━━\u001b[0m\u001b[37m\u001b[0m \u001b[1m7s\u001b[0m 57ms/step - accuracy: 0.9287 - loss: 0.2310 - val_accuracy: 0.9685 - val_loss: 0.1561\n",
            "Epoch 3/5\n",
            "\u001b[1m117/117\u001b[0m \u001b[32m━━━━━━━━━━━━━━━━━━━━\u001b[0m\u001b[37m\u001b[0m \u001b[1m10s\u001b[0m 51ms/step - accuracy: 0.9816 - loss: 0.1359 - val_accuracy: 0.9831 - val_loss: 0.1074\n",
            "Epoch 4/5\n",
            "\u001b[1m117/117\u001b[0m \u001b[32m━━━━━━━━━━━━━━━━━━━━\u001b[0m\u001b[37m\u001b[0m \u001b[1m10s\u001b[0m 52ms/step - accuracy: 0.9914 - loss: 0.0872 - val_accuracy: 0.9864 - val_loss: 0.0822\n",
            "Epoch 5/5\n",
            "\u001b[1m117/117\u001b[0m \u001b[32m━━━━━━━━━━━━━━━━━━━━\u001b[0m\u001b[37m\u001b[0m \u001b[1m10s\u001b[0m 51ms/step - accuracy: 0.9966 - loss: 0.0595 - val_accuracy: 0.9869 - val_loss: 0.0706\n"
          ]
        }
      ]
    },
    {
      "cell_type": "code",
      "source": [
        "# Plota função de perda e acurácia\n",
        "plt.plot(r.history[\"loss\"], label=\"loss\")\n",
        "plt.plot(r.history[\"val_loss\"], label=\"val_loss\")\n",
        "plt.xlabel(\"Épocas\")\n",
        "plt.ylabel(\"loss\")\n",
        "plt.xticks(np.arange(0, epochs, step=1), labels=range(1, epochs+1))\n",
        "plt.legend()\n",
        "plt.show()\n",
        "plt.plot(r.history[\"accuracy\"], label=\"accuracy\")\n",
        "plt.plot(r.history[\"val_accuracy\"], label=\"val_accuracy\")\n",
        "plt.xlabel(\"Épocas\")\n",
        "plt.ylabel(\"Acurácia\")\n",
        "plt.xticks(np.arange(0, epochs, step=1), labels=range(1, epochs+1))\n",
        "plt.legend()\n",
        "plt.show()"
      ],
      "metadata": {
        "colab": {
          "base_uri": "https://localhost:8080/",
          "height": 885
        },
        "id": "iiYhrHykSRZP",
        "outputId": "e975f513-0545-44c8-e457-a804c97f11a5"
      },
      "execution_count": 21,
      "outputs": [
        {
          "output_type": "display_data",
          "data": {
            "text/plain": [
              "<Figure size 640x480 with 1 Axes>"
            ],
            "image/png": "[encoded data removed]"
          },
          "metadata": {}
        },
        {
          "output_type": "display_data",
          "data": {
            "text/plain": [
              "<Figure size 640x480 with 1 Axes>"
            ],
            "image/png": "[encoded data removed]"
          },
          "metadata": {}
        }
      ]
    },
    {
      "cell_type": "code",
      "source": [
        "# Efetua a predição de um texto novo\n",
        "#texto = \"Hi, my name is Razer and want to tell you something.\"\n",
        "texto = \"Is your car dirty? Discover our new product. Free for all. Click the link.\"\n",
        "seq_texto = tokenizer.texts_to_sequences([texto]) # Tokeniza\n",
        "data_texto = pad_sequences(seq_texto, maxlen=T) # Padding\n",
        "pred = model.predict(data_texto) # Predição\n",
        "print(pred)\n",
        "print (\"SPAM\" if pred >= 0.5 else \"OK\")"
      ],
      "metadata": {
        "colab": {
          "base_uri": "https://localhost:8080/"
        },
        "id": "clm7Kp01SVI3",
        "outputId": "10820d07-4718-459b-8a77-12a9a10eb2a5"
      },
      "execution_count": 22,
      "outputs": [
        {
          "output_type": "stream",
          "name": "stdout",
          "text": [
            "\u001b[1m1/1\u001b[0m \u001b[32m━━━━━━━━━━━━━━━━━━━━\u001b[0m\u001b[37m\u001b[0m \u001b[1m0s\u001b[0m 279ms/step\n",
            "[[0.6560018]]\n",
            "SPAM\n"
          ]
        }
      ]
    },
    {
      "cell_type": "code",
      "source": [
        "# Efetua a predição de um texto novo\n",
        "texto = \"Hi, my name is Razer and want to tell you something.\"\n",
        "#texto = \"Is your car dirty? Discover our new product. Free for all. Click the link.\"\n",
        "seq_texto = tokenizer.texts_to_sequences([texto]) # Tokeniza\n",
        "data_texto = pad_sequences(seq_texto, maxlen=T) # Padding\n",
        "pred = model.predict(data_texto) # Predição\n",
        "print(pred)\n",
        "print (\"SPAM\" if pred >= 0.5 else \"OK\")"
      ],
      "metadata": {
        "colab": {
          "base_uri": "https://localhost:8080/"
        },
        "id": "76c7MEsBUY-n",
        "outputId": "c19bc651-a4df-4225-e2e5-343fa8b32159"
      },
      "execution_count": 23,
      "outputs": [
        {
          "output_type": "stream",
          "name": "stdout",
          "text": [
            "\u001b[1m1/1\u001b[0m \u001b[32m━━━━━━━━━━━━━━━━━━━━\u001b[0m\u001b[37m\u001b[0m \u001b[1m0s\u001b[0m 41ms/step\n",
            "[[0.01516588]]\n",
            "OK\n"
          ]
        }
      ]
    }
  ]
}